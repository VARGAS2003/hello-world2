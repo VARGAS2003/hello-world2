{
  "metadata": {
    "kernelspec": {
      "name": "python",
      "display_name": "Python (Pyodide)",
      "language": "python"
    },
    "language_info": {
      "codemirror_mode": {
        "name": "python",
        "version": 3
      },
      "file_extension": ".py",
      "mimetype": "text/x-python",
      "name": "python",
      "nbconvert_exporter": "python",
      "pygments_lexer": "ipython3",
      "version": "3.8"
    }
  },
  "nbformat_minor": 4,
  "nbformat": 4,
  "cells": [
    {
      "cell_type": "markdown",
      "source": "# Tarea - Programación lineal\n## Úrsula Vargas López  740388\n## 20/02/2023",
      "metadata": {}
    },
    {
      "cell_type": "markdown",
      "source": "### Diseño de la Dieta Óptima\n\nSe quiere producir comida para gatos de la manera más barata, no obstante se debe también asegurar que se cumplan los datos requeridos de analisis nutricional. Por lo que se quiere variar la cantidad de cada ingrediente para cumplir con los estandares nutricionales. Los requisitos que se tienen es que en $100$ gramos, se deben tener **por lo menos** $8$ gramos de proteína y $6$ gramos de grasa. Así mismo, no se debe tener más de $2$ gramos de fibra y $0.4$ gramos de sal.  \n\nLos datos nutricionales se pueden obtener de la siguiente tabla:\n\nIngrediente|Proteína|Grasa|Fibra|Sal\n:----|----|----|----|----\nPollo|  10.0%|08.0%|00.1%|00.2%\nCarne|  20.0%|10.0%|00.5%|00.5%\nCordero|15.0%|11.0%|00.5%|00.7%\nArroz|  00.0%|01.0%|10.0%|00.2%\nTrigo|  04.0%|01.0%|15.0%|00.8%\nGel|    00.0%|00.0%|00.0%|00.0%\n\nLos costos de cada producto son:\n\nIngrediente|Costo por gramo\n:----|----\nPollo|$\\$$0.013\nCarne|$\\$$0.008\nCordero|$\\$$0.010\nArroz|$\\$$0.002\nTrigo|$\\$$0.005\nGel|$\\$$0.001    \n\nLo que se busca optimizar en este caso es la cantidad de productos que se debe utilizar en la comida de gato, minimizando el costo total. Para simplificar la notación use las siguientes variables: \n\n+ $x_1:$ Gramos de pollo  \n+ $x_2:$ Gramos de carne  \n+ $x_3:$ Gramos de cordero  \n+ $x_4:$ Gramos de arroz  \n+ $x_5:$ Gramos de trigo  \n+ $x_6:$ Gramos de gel\n\nLa tarea consiste en plantear el problemade programación lineal que permita satisfacer las necesidades alimenticias del gato al tiempo que minimice el costo total y resolverlo con `linprog`.",
      "metadata": {}
    },
    {
      "cell_type": "markdown",
      "source": "### PLANTEAMIENTO\n\n1.-Minimizar costo total\n\n2.- Variables $X1,X2,X3,X4,X5,X6$\n\n3.-Función de costo\n\n$=0.013x1+0.008x2+0.010x3+0.002x4+0.005x5+0.001x6$\n\n4.-Restricciones\n\n$-0.1x1-0.2x2-0.15x3-0x4-0.04x5-0x6<=-8$\n\n$-0.08x1-0.1x2-0.11x3-0.01x4-0.01x5-0x6<=-6$\n\n$0.001+0.005+0.005+0.10+0.15+0<=2$\n\n$0.002+0.007+0.007+0.002+0.008+0<=0.4$\n",
      "metadata": {}
    },
    {
      "cell_type": "code",
      "source": "import scipy.optimize as opt\nimport numpy as np\n\nc=np.array([\n    [0.013,\n     0.008,\n     0.010,\n     0.002,\n     0.005,\n     0.001]\n])\n\nAub= np.array([\n    [-0.1,-0.2,-0.15,0,-0.04,0],\n    [-0.08,-0.1,-0.11,-0.01,-0.01,0],\n    [0.001,0.005,0.005,0.10,0.15,0],\n    [0.002,0.007,0.007,0.002,0.008,0]\n])\n\nbub=np.array([\n    [-8,\n     -6,\n     2,\n     0.40]\n])\n\nAeq=np.array([\n    [1,\n     1,\n     1,\n     1,\n     1,\n     1]\n])\n\nbeq=np.array([\n    [100]\n])\n\nopt.linprog (c,Aub,bub,Aeq,beq)\n     ",
      "metadata": {
        "trusted": true
      },
      "execution_count": 4,
      "outputs": [
        {
          "execution_count": 4,
          "output_type": "execute_result",
          "data": {
            "text/plain": "           con: array([0.])\n crossover_nit: 0\n         eqlin:  marginals: array([0.001])\n  residual: array([0.])\n           fun: 0.5555555555555554\n       ineqlin:  marginals: array([-0.        , -0.19444444, -0.        , -1.77777778])\n  residual: array([3.66666667, 0.        , 1.71666667, 0.        ])\n         lower:  marginals: array([0.00000000e+00, 0.00000000e+00, 5.55555556e-05, 2.61111111e-03,\n       1.62777778e-02, 0.00000000e+00])\n  residual: array([ 5.55555556, 55.55555556,  0.        ,  0.        ,  0.        ,\n       38.88888889])\n       message: 'Optimization terminated successfully. (HiGHS Status 7: Optimal)'\n           nit: 3\n         slack: array([3.66666667, 0.        , 1.71666667, 0.        ])\n        status: 0\n       success: True\n         upper:  marginals: array([0., 0., 0., 0., 0., 0.])\n  residual: array([inf, inf, inf, inf, inf, inf])\n             x: array([ 5.55555556, 55.55555556,  0.        ,  0.        ,  0.        ,\n       38.88888889])"
          },
          "metadata": {}
        }
      ]
    },
    {
      "cell_type": "markdown",
      "source": "## RESPUESTA\n\n#### Para minimizar el costo total y satisfacer las necesidades alimenticias del gato se necesitan 5.55gr de pollo, 55.55gr de carne y 38.88gr de gel.\n#### Con un costo de producción de $0.55 por pieza(bolsa)",
      "metadata": {}
    },
    {
      "cell_type": "markdown",
      "source": "### 2.- Problema de distribución de energía eléctrica\n\nLa Comisión Federal de Electricidad **(CFE)** dispone de cuatro plantas de generación para satisfacer la demanda diaria eléctrica en cuatro ciudades, Guadalajara, León y Morelia. Las plantas $1$, $2$ y $3$ pueden satisfacer $80$, $40$ y $60$ millones de KW al día respectivamente. Las necesidades de las ciudades de Guadalajara, León y Morelia son de $70$, $40$ y $70$ millones de Kw al día respectivamente. \n\n\nLos costos asociados al envío de suministro energético por cada millón de Kw entre cada planta y cada ciudad son los registrados en la siguiente tabla. \n\n-|Guadalajara|León|Morelia\n:----|----|----|----\nPlanta 1|5|2|7\nPlanta 2|3|6|6\nPlanta 3|6|1|2\n\nY por último, las restricciones del problema, van a estar dadas por las capacidades de oferta y demanda de cada planta (en millones de KW) y cada ciudad.\n\nPara simplificar la notación use las siguientes variables:\n\n+ $x_1$: Kw (en millones) distribuidos de la Planta 1 a Guadalajara\n+ $x_2$: Kw (en millones) distribuidos de la Planta 1 a León\n+ $x_3$: Kw (en millones) distribuidos de la Planta 1 a Morelia\n+ $x_4$: Kw (en millones) distribuidos de la Planta 2 a Guadalajara\n+ $x_5$: Kw (en millones) distribuidos de la Planta 2 a León\n+ $x_6$: Kw (en millones) distribuidos de la Planta 2 a Morelia\n+ $x_7$: Kw (en millones) distribuidos de la Planta 3 a Guadalajara\n+ $x_8$: Kw (en millones) distribuidos de la Planta 3 a León\n+ $x_9$: Kw (en millones) distribuidos de la Planta 3 a Morelia\n\nLa tarea consiste en plantear el problema de programación lineal que permita satisfacer las necesidades de todas las ciudades al tiempo que minimice los costos asociados a la distribución y resolverlo con `linprog`.",
      "metadata": {}
    },
    {
      "cell_type": "markdown",
      "source": "## PLANTEAMINETO\n\n1.-Minimizar costos de distribución\n\n2.- Variables $X1,X2,X3,X4,X5,X6,X7,X8,X9$\n\n3.-Función costo\n\n$=5x1+2x2+7x3+3x4+6x5+6x6+6x7+x8+2x9$\n\n4.-Restricciones\n\nPLANTAS\n\n$x1+x2+x3<=80$\n\n$x4+x5+x6<=40$\n\n$x7+x8+x9<=60$\n\n\nCIUDADES\n\n$x1+x4+x7=70$\n\n$x2+x5+x8=40$\n\n$x3+x6+x9=70$\n\n",
      "metadata": {}
    },
    {
      "cell_type": "code",
      "source": "import scipy.optimize as opt\nimport numpy as np\n\nc=np.array ([\n    [5,\n     2,\n     7,\n     3,\n     6,\n     6,\n     6,\n     1,\n     2]\n     ])\n    \nAub=np.array ([\n    [1,1,1,0,0,0,0,0,0],\n    [0,0,0,1,1,1,0,0,0],\n    [0,0,0,0,0,0,1,1,1]\n    ])\n\nbub=np.array([\n    [80,\n     40,\n     60]\n])\n\nAeq=np.array([\n    [1,0,0,1,0,0,1,0,0],\n    [0,1,0,0,1,0,0,1,0],\n    [0,0,1,0,0,1,0,0,1]\n])\n\nbeq=np.array([\n    [70,\n     40,\n     70]\n])\n\nopt.linprog(c,Aub,bub,Aeq,beq)\n    \n    \n    ",
      "metadata": {
        "trusted": true
      },
      "execution_count": 1,
      "outputs": [
        {
          "execution_count": 1,
          "output_type": "execute_result",
          "data": {
            "text/plain": "           con: array([0., 0., 0.])\n crossover_nit: 0\n         eqlin:  marginals: array([5., 2., 7.])\n  residual: array([0., 0., 0.])\n           fun: 540.0\n       ineqlin:  marginals: array([-0., -2., -5.])\n  residual: array([0., 0., 0.])\n         lower:  marginals: array([0., 0., 0., 0., 6., 1., 6., 4., 0.])\n  residual: array([30., 40., 10., 40.,  0.,  0.,  0.,  0., 60.])\n       message: 'Optimization terminated successfully. (HiGHS Status 7: Optimal)'\n           nit: 6\n         slack: array([0., 0., 0.])\n        status: 0\n       success: True\n         upper:  marginals: array([0., 0., 0., 0., 0., 0., 0., 0., 0.])\n  residual: array([inf, inf, inf, inf, inf, inf, inf, inf, inf])\n             x: array([30., 40., 10., 40.,  0.,  0.,  0.,  0., 60.])"
          },
          "metadata": {}
        }
      ]
    },
    {
      "cell_type": "markdown",
      "source": "# RESPUESTA\n\n### Para minimizar el costo de distribución se deben enviar:\n##### 30  Kw (en millones) distribuidos de la Planta 1 a Guadalajara\n##### 40  Kw (en millones) distribuidos de la Planta 1 a León\n##### 10  Kw (en millones) distribuidos de la Planta 1 a Morelia\n##### 40  Kw (en millones) distribuidos de la Planta 2 a Guadalajara\n##### 60  Kw (en millones) distribuidos de la Planta 3 a Morelia\n\n##### Con un costo total de distribución de $540",
      "metadata": {}
    }
  ]
}