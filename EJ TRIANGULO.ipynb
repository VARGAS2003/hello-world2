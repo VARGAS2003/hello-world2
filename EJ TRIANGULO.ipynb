{
  "metadata": {
    "language_info": {
      "codemirror_mode": {
        "name": "python",
        "version": 3
      },
      "file_extension": ".py",
      "mimetype": "text/x-python",
      "name": "python",
      "nbconvert_exporter": "python",
      "pygments_lexer": "ipython3",
      "version": "3.8"
    },
    "kernelspec": {
      "name": "python",
      "display_name": "Python (Pyodide)",
      "language": "python"
    }
  },
  "nbformat_minor": 4,
  "nbformat": 4,
  "cells": [
    {
      "cell_type": "markdown",
      "source": "# EJERCICIO SYMPY A02",
      "metadata": {
        "tags": []
      }
    },
    {
      "cell_type": "code",
      "source": "import sympy as sp\n\nsp.var(\"x\")\nsp.var(\"y\")\nsp.var(\"h\")\n",
      "metadata": {
        "trusted": true
      },
      "execution_count": 11,
      "outputs": [
        {
          "execution_count": 11,
          "output_type": "execute_result",
          "data": {
            "text/plain": "h",
            "text/latex": "$\\displaystyle h$"
          },
          "metadata": {}
        }
      ]
    },
    {
      "cell_type": "code",
      "source": "funcion_base= (1/3)*sp.pi*(y/2)**2*h\nfuncion_base",
      "metadata": {
        "trusted": true
      },
      "execution_count": 12,
      "outputs": [
        {
          "execution_count": 12,
          "output_type": "execute_result",
          "data": {
            "text/plain": "0.0833333333333333*pi*h*y**2",
            "text/latex": "$\\displaystyle 0.0833333333333333 \\pi h y^{2}$"
          },
          "metadata": {}
        }
      ]
    },
    {
      "cell_type": "code",
      "source": "perimetro=2*x+y-10\nperimetro",
      "metadata": {
        "trusted": true
      },
      "execution_count": 13,
      "outputs": [
        {
          "execution_count": 13,
          "output_type": "execute_result",
          "data": {
            "text/plain": "2*x + y - 10",
            "text/latex": "$\\displaystyle 2 x + y - 10$"
          },
          "metadata": {}
        }
      ]
    },
    {
      "cell_type": "code",
      "source": "x_sol=sp.solve(perimetro, x)[0]\nx_sol",
      "metadata": {
        "trusted": true
      },
      "execution_count": 19,
      "outputs": [
        {
          "execution_count": 19,
          "output_type": "execute_result",
          "data": {
            "text/plain": "5 - y/2",
            "text/latex": "$\\displaystyle 5 - \\frac{y}{2}$"
          },
          "metadata": {}
        }
      ]
    },
    {
      "cell_type": "code",
      "source": "altura= sp.sqrt(x**2-(y/2)**2)\naltura",
      "metadata": {
        "trusted": true
      },
      "execution_count": 20,
      "outputs": [
        {
          "execution_count": 20,
          "output_type": "execute_result",
          "data": {
            "text/plain": "sqrt(x**2 - y**2/4)",
            "text/latex": "$\\displaystyle \\sqrt{x^{2} - \\frac{y^{2}}{4}}$"
          },
          "metadata": {}
        }
      ]
    },
    {
      "cell_type": "code",
      "source": "altura_final= altura.subs(x, x_sol)\naltura_final",
      "metadata": {
        "trusted": true
      },
      "execution_count": 22,
      "outputs": [
        {
          "execution_count": 22,
          "output_type": "execute_result",
          "data": {
            "text/plain": "sqrt(-y**2/4 + (5 - y/2)**2)",
            "text/latex": "$\\displaystyle \\sqrt{- \\frac{y^{2}}{4} + \\left(5 - \\frac{y}{2}\\right)^{2}}$"
          },
          "metadata": {}
        }
      ]
    },
    {
      "cell_type": "code",
      "source": "volumen= funcion_base.subs(h,altura_final)\nvolumen",
      "metadata": {
        "trusted": true
      },
      "execution_count": 23,
      "outputs": [
        {
          "execution_count": 23,
          "output_type": "execute_result",
          "data": {
            "text/plain": "0.0833333333333333*pi*y**2*sqrt(-y**2/4 + (5 - y/2)**2)",
            "text/latex": "$\\displaystyle 0.0833333333333333 \\pi y^{2} \\sqrt{- \\frac{y^{2}}{4} + \\left(5 - \\frac{y}{2}\\right)^{2}}$"
          },
          "metadata": {}
        }
      ]
    },
    {
      "cell_type": "code",
      "source": "d_volumen= sp.diff(volumen,y)\nd_volumen",
      "metadata": {
        "trusted": true
      },
      "execution_count": 24,
      "outputs": [
        {
          "execution_count": 24,
          "output_type": "execute_result",
          "data": {
            "text/plain": "-0.208333333333333*pi*y**2/sqrt(-y**2/4 + (5 - y/2)**2) + 0.166666666666667*pi*y*sqrt(-y**2/4 + (5 - y/2)**2)",
            "text/latex": "$\\displaystyle - \\frac{0.208333333333333 \\pi y^{2}}{\\sqrt{- \\frac{y^{2}}{4} + \\left(5 - \\frac{y}{2}\\right)^{2}}} + 0.166666666666667 \\pi y \\sqrt{- \\frac{y^{2}}{4} + \\left(5 - \\frac{y}{2}\\right)^{2}}$"
          },
          "metadata": {}
        }
      ]
    },
    {
      "cell_type": "code",
      "source": "pc=sp.solve(d_volumen,y) #para resolver dy=0\npc",
      "metadata": {
        "trusted": true
      },
      "execution_count": 27,
      "outputs": [
        {
          "execution_count": 27,
          "output_type": "execute_result",
          "data": {
            "text/plain": "[0.0, 4.00000000000000]"
          },
          "metadata": {}
        }
      ]
    },
    {
      "cell_type": "code",
      "source": "pc[1] # 4 sería el valor de y porque los lados no pueden medir 0cm",
      "metadata": {
        "trusted": true
      },
      "execution_count": 28,
      "outputs": [
        {
          "execution_count": 28,
          "output_type": "execute_result",
          "data": {
            "text/plain": "4.00000000000000",
            "text/latex": "$\\displaystyle 4.0$"
          },
          "metadata": {}
        }
      ]
    },
    {
      "cell_type": "markdown",
      "source": "y=4 es decir el radio debe medir 2 y sustituyo en la \"x\" despejada el valor de y",
      "metadata": {}
    },
    {
      "cell_type": "code",
      "source": "x_sol",
      "metadata": {
        "trusted": true
      },
      "execution_count": 29,
      "outputs": [
        {
          "execution_count": 29,
          "output_type": "execute_result",
          "data": {
            "text/plain": "5 - y/2",
            "text/latex": "$\\displaystyle 5 - \\frac{y}{2}$"
          },
          "metadata": {}
        }
      ]
    },
    {
      "cell_type": "code",
      "source": "lado=x_sol.subs(y,pc[1])\nlado",
      "metadata": {
        "trusted": true
      },
      "execution_count": 35,
      "outputs": [
        {
          "execution_count": 35,
          "output_type": "execute_result",
          "data": {
            "text/plain": "3.00000000000000",
            "text/latex": "$\\displaystyle 3.0$"
          },
          "metadata": {}
        }
      ]
    },
    {
      "cell_type": "code",
      "source": "import numpy as np\nv=(1/3)*np.pi*2**2*2.5980\nv",
      "metadata": {
        "trusted": true
      },
      "execution_count": 42,
      "outputs": [
        {
          "execution_count": 42,
          "output_type": "execute_result",
          "data": {
            "text/plain": "10.882476952035042"
          },
          "metadata": {}
        }
      ]
    },
    {
      "cell_type": "markdown",
      "source": "Entonces los lados del triangulo que generan el mayor volumen posible son base=4cm y lados=3cm\n\nArrojando un volumen de 10.88cm cubicos ",
      "metadata": {}
    }
  ]
}